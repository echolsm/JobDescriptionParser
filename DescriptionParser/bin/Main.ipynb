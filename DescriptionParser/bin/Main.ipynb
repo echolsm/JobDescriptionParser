{
 "cells": [
  {
   "cell_type": "code",
   "execution_count": 1,
   "metadata": {},
   "outputs": [
    {
     "name": "stderr",
     "output_type": "stream",
     "text": [
      "INFO:root:Begin transform\n",
      "ERROR:root:Error occurred during regex search\n",
      "ERROR:root:Error occurred during regex search\n",
      "ERROR:root:Error occurred during regex search\n",
      "INFO:root:Archiving data set schema(s) for step name: transform\n",
      "INFO:root:Working data_set: observations\n",
      "INFO:root:End transform\n",
      "INFO:root:Begin load\n",
      "INFO:root:Results being output to ../output/JOB_DESCRIPTION_summary.csv\n",
      "INFO:root:End transform\n"
     ]
    },
    {
     "name": "stdout",
     "output_type": "stream",
     "text": [
      "Results output to ../output/JOB_DESCRIPTION_summary.csv\n"
     ]
    }
   ],
   "source": [
    "import FieldExt as field_extraction\n",
    "import JobLib as lib\n",
    "\n",
    "import inspect\n",
    "import sys\n",
    "import logging\n",
    "import os\n",
    "import re\n",
    "import subprocess\n",
    "import pandas as pd\n",
    "import pandas\n",
    "import yaml\n",
    "import spacy\n",
    "\n",
    "currentdir = os.path.dirname(os.path.abspath(inspect.getfile(inspect.currentframe())))\n",
    "parentdir = os.path.dirname(currentdir)\n",
    "sys.path.insert(0,parentdir)\n",
    "\n",
    "def main():\n",
    "    \"\"\"\n",
    "    Main function documentation template\n",
    "    :return: None\n",
    "    :rtype: None\n",
    "    \"\"\"\n",
    "    logging.getLogger().setLevel(logging.INFO)\n",
    "\n",
    "    # Extract data from upstream.\n",
    "    observations = pd.read_csv(\"DescriptionsTest.csv\")\n",
    "\n",
    "    # Spacy: Spacy NLP\n",
    "    nlp = spacy.load('en')\n",
    "\n",
    "    # Transform data to have appropriate fields\n",
    "    observations, nlp = transform(observations, nlp)\n",
    "\n",
    "    # Load data for downstream consumption\n",
    "    load(observations, nlp)\n",
    "\n",
    "    pass\n",
    "\n",
    "def transform(observations, nlp):\n",
    "    # TODO Docstring\n",
    "    logging.info('Begin transform')\n",
    "\n",
    "    # Extract skills\n",
    "    observations = field_extraction.data_cleaning(observations)\n",
    "    #print(observations.columns)\n",
    "    observations = field_extraction.extract_fields(observations)\n",
    "    #print(observations.columns)\n",
    "    # Archive schema and return\n",
    "    lib.archive_dataset_schemas('transform', locals(), globals())\n",
    "    logging.info('End transform')\n",
    "    return observations, nlp\n",
    "\n",
    "def load(observations, nlp):\n",
    "    logging.info('Begin load')\n",
    "    output_path = os.path.join(lib.get_conf('summary_output_directory'), 'JOB_DESCRIPTION_summary.csv')\n",
    "\n",
    "    logging.info('Results being output to {}'.format(output_path))\n",
    "    print('Results output to {}'.format(output_path))\n",
    "\n",
    "    observations.to_csv(path_or_buf=output_path, index_label='index')\n",
    "    logging.info('End transform')\n",
    "    pass\n",
    "\n",
    "# Main section\n",
    "if __name__ == '__main__':\n",
    "    main()"
   ]
  },
  {
   "cell_type": "code",
   "execution_count": null,
   "metadata": {},
   "outputs": [],
   "source": []
  }
 ],
 "metadata": {
  "kernelspec": {
   "display_name": "Python3.7Test",
   "language": "python",
   "name": "python3.7test"
  },
  "language_info": {
   "codemirror_mode": {
    "name": "ipython",
    "version": 3
   },
   "file_extension": ".py",
   "mimetype": "text/x-python",
   "name": "python",
   "nbconvert_exporter": "python",
   "pygments_lexer": "ipython3",
   "version": "3.7.3"
  }
 },
 "nbformat": 4,
 "nbformat_minor": 2
}
